{
 "cells": [
  {
   "cell_type": "code",
   "execution_count": 5,
   "metadata": {},
   "outputs": [],
   "source": [
    "import os\n",
    "import paths\n",
    "from bing_image_downloader import downloader\n",
    "from datasdoc.config.general import Settings"
   ]
  },
  {
   "cell_type": "code",
   "execution_count": null,
   "metadata": {},
   "outputs": [],
   "source": [
    "output_folder = os.path.relpath(\n",
    "    Settings.IMAGES_DOWNLOAD_PATH,\n",
    "    os.getcwd()\n",
    ")\n",
    "\n",
    "downloader.download(\n",
    "    query=\"Kündigung Mietvertrag\", \n",
    "    limit=1000,  \n",
    "    output_dir=output_folder,\n",
    "    adult_filter_off=False, \n",
    "    force_replace=False, \n",
    "    timeout=60\n",
    ")"
   ]
  },
  {
   "cell_type": "code",
   "execution_count": null,
   "metadata": {},
   "outputs": [],
   "source": []
  }
 ],
 "metadata": {
  "interpreter": {
   "hash": "c2f8a729571b5b3e8efe6521cfcc3719515777831eeb5cee06b7b7c577c3efd1"
  },
  "kernelspec": {
   "display_name": "Python 3.8.10 ('doc-as-graph-jhaeVnrL-py3.8')",
   "language": "python",
   "name": "python3"
  },
  "language_info": {
   "codemirror_mode": {
    "name": "ipython",
    "version": 3
   },
   "file_extension": ".py",
   "mimetype": "text/x-python",
   "name": "python",
   "nbconvert_exporter": "python",
   "pygments_lexer": "ipython3",
   "version": "3.8.10"
  },
  "orig_nbformat": 4
 },
 "nbformat": 4,
 "nbformat_minor": 2
}
