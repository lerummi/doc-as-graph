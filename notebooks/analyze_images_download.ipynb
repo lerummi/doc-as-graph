{
 "cells": [
  {
   "cell_type": "code",
   "execution_count": 2,
   "metadata": {},
   "outputs": [],
   "source": [
    "import os\n",
    "import paths\n",
    "\n",
    "from datasdoc.config.general import Settings\n",
    "from datasdoc.sources import Bing"
   ]
  },
  {
   "cell_type": "code",
   "execution_count": 3,
   "metadata": {},
   "outputs": [],
   "source": [
    "output_folder = os.path.relpath(\n",
    "    Settings.IMAGES_DOWNLOAD_PATH,\n",
    "    os.getcwd()\n",
    ")\n",
    "\n",
    "bing = Bing(\n",
    "    #query=\"Rechnung Beispiel\", \n",
    "    #limit=150,\n",
    "    #output_dir=\"/tmp/test\",\n",
    "    adult=\"off\",\n",
    "    timeout=60\n",
    ")"
   ]
  },
  {
   "cell_type": "code",
   "execution_count": 4,
   "metadata": {},
   "outputs": [
    {
     "name": "stdout",
     "output_type": "stream",
     "text": [
      "\n",
      "\n",
      "[!!]Indexing page: 0\n",
      "\n",
      "writing to  /tmp/query.links\n",
      "list of files  ['https://www.dillyhearts.com/bilder/gbr-rechnung-vorlage-cool-rechnungen-der-gbr-rechnung-vorlage.png', 'https://vorlagen.takma.org/vorlagen/002-brief-rechnung-vorlage-15-vorkasse-rechnung-muster.jpg', 'https://www.meltemplates.com/wp-content/uploads/2021/02/Rechnungsvorlage-Standard.png', 'https://www.p1hosting.de/wp-content/uploads/2016/06/rechnung_fake.png', 'https://www.tageszeitung.it/wp-content/uploads/2019/11/beispielrechnung-suedtirol-logo-e1573481225425.png', 'https://rechnungsprofi.eu/wp-content/uploads/RechnungBerichtBrutto.jpg', 'https://www.casagenotta.com/wp-content/uploads/2020/07/bearbeitbar-von-vorlage-proforma-rechnung-proforma-invoice-vorlage-20200512-no-show-rechnung-vorlage-pdf.jpg', 'https://www.appointmed.com/blog/wp-content/uploads/2017/11/rechnung-merkmale-appointmed.png', 'https://www.siwicadilly.com/wp-content/uploads/2019/03/vorlage-rechnung-kleinunternehmer-openoffice-bewundernswert-kleinunternehmer-musterrechnung-peoplecheck-der-vorlage-rechnung-kleinunternehmer-openoffice-1024x718.gif', 'https://basel-onlinemarketing.de/data/rechnung-musiker-gage-vorlage-1.jpg', 'https://rechnungen-muster.de/images/kleinunternehmer-rechnung-6p.jpg', 'https://www.casagenotta.com/wp-content/uploads/2020/10/bearbeitbar-von-rechnungsvorlage-fur-freiberufler-kostenfreier-download-vorlage-rechnung-freiberufler-word.png', 'https://www.inv24.com/components/Misc/download/templates/de/images/rechnung_beispiel_dotx-798.jpg', 'https://software-fs.de/media/images/rechnung.jpg', 'https://www.meinevorlagen.com/wp-content/uploads/2014/01/Rechnung-702x1024.jpg', 'https://finanzensteuern.de/wp-content/uploads/rechnung-beispiel.jpg', 'https://www.soraya-bauchtanz.de/katalog/fantastisch-rechnung-kleingewerbe-ohne-umsatzsteuer-vorlage-rechnung-von-kleingewerbe-rechnung-vorlage-1.jpg', 'https://www.teltarif.de/img/arch/2015/kw42/de-deutsche-domain-rechnung-warnung-1mp2.jpg', 'https://www.formblitz.de/assets/formular/rechnung_ausfuhrlieferung_20142.jpg', 'https://www.maxrev.de/files/2013/07/rechnung_zahnriemen.jpg', 'https://muster.tokyonewchurch.org/IMG/am-beliebtesten-15-vorlage-rechnung-kleinunternehmer-word-von-rechnung-kleinunternehmer-vorlage-word.jpg', 'https://www.siwicadilly.com/wp-content/uploads/2019/03/vorlage-rechnung-kleinunternehmer-openoffice-hubsch-download-faktura-manager-hausmeister-software-kostenlos-der-vorlage-rechnung-kleinunternehmer-openoffice.jpg', 'https://unternehmerkanal.de/wp-content/uploads/2018/01/Kostenlose-Rechnungsvorlage.jpg', 'https://www.gestell-pool.com/wp-content/uploads/2019/04/Gestellrechnung_01.jpg', 'https://stastiebote.com/bqd/DivI1hJz5-P6-JWRP3eeYAHaKe.jpg', 'https://www.telekom.de/resources/images/542482/Festnetz-Rechnung-Seite-1-mit-grauem-Hintergrund-HTML-Notifiation-efeeee.jpg', 'https://www.casagenotta.com/wp-content/uploads/2020/08/bearbeitbar-von-vorlage-fur-subunternehmerrechnung-und-musterrechnung-fur-vorlage-rechnung-nach-c2a7-13b-pdf.png', 'https://www.stadtwerke-dorfen.de/wp-content/uploads/musters1-1.png', 'https://www.mypaketshop.com/wp-content/uploads/Rechnung-Beispiel-728x1030.png', 'https://secinfinity.net/wp-content/uploads/2019/09/1568316260_663_So-laden-Sie-die-Rechnung-fur-Bestellungen-von-herunter-Amazon.jpg', 'https://www.casagenotta.com/wp-content/uploads/2020/08/das-sample-von-rechnungsvorlage-schweiz-im-word-excelformat-kostenlos-musiker-rechnung-vorlage-pdf-768x1085.png', 'https://www.ccgps.org/wp-content/uploads/2018/10/rechnung-stellen-als-privatperson-vorlage-fabelhaft-rechnungsvorlage-schweiz-fur-word-amp-excel-kostenlos-der-rechnung-stellen-als-privatperson-vorlage-724x1024.jpg', 'https://www.mypaketshop.com/wp-content/uploads/Online-Rechnung-Beispiel.jpg', 'https://www.casagenotta.com/wp-content/uploads/2020/07/bearbeitbar-von-rechnungsvorlage-schweiz-word-excel-gratis-downloaden-werkstatt-rechnung-vorlage-word-768x1085.jpg', 'https://www.mohandes-ins.com/katalog/original-vorlage-rechnung-privat-734422-720x1001.jpg', 'https://a2-freun.de/forum/uploads/monthly_2009_02/rechnung.jpg.3e0e6cf2a9cc253d80fb820560706a0f.jpg', 'https://www.formblitz.de/assets/formular/de_rechnung_netto-2.jpg', 'https://www.new-facts.eu/wp-content/uploads/2020/03/Rechnung-19190-768x1085.jpg', 'https://cdn.rawgit.com/PHP-Einfach/pdf-rechnung/master/Beispiel_Rechnung.png', 'http://de.academic.ru/pictures/dewiki/82/Rechnung_Muster_1.gif', 'https://i2.wp.com/blog.start-up-berater.de/wp-content/uploads/2016/07/Kostenlose-Vorlage-Rechnung-Kleinunternehmer.png', 'https://utm-shop.de/media/image/b6/0e/a0/Rechnung.png', 'https://www.casagenotta.com/wp-content/uploads/2020/08/das-beispiel-von-rechnungsvorlagen-kostenlos-rechnungsvorlage-fur-jeden-zweck-gewerbe-rechnung-vorlage-pdf.jpg', 'https://blog.selectline.de/wp-content/uploads/2013/12/Rechnung-schreiben.jpg', 'https://www.casagenotta.com/wp-content/uploads/2020/07/bearbeitbar-von-rechnungsvorlagen-kostenlos-rechnungsvorlage-fur-jeden-zweck-berater-rechnung-vorlage-doc.jpg', 'https://www.casagenotta.com/wp-content/uploads/2020/10/bearbeitbar-von-19-wunderbar-muster-vorlage-rechnung-kleinunternehmer-jene-vorlage-rechnung-ferienwohnung-doc.jpg', 'https://blog.smallinvoice.com/files/2020/09/pflichtangaben-schweizer-rechung-1099x1536.png', 'https://www.travelseller.net/wiki/lib/exe/fetch.php?media=travelseller:kommunikation_dokumente:rechnung.png', 'https://www.casagenotta.com/wp-content/uploads/2020/09/druckbar-von-rechnungen-honorarnoten-belege-wichtige-infos-fur-rechnung-heilpraktiker-psychotherapie-vorlage-pdf-1250x1536.png', 'http://www.mfgroup.ch/user/themes/mfboilerplate/img/single_invoice_de.png', 'https://www.buero24.org/sites/default/files/inline/images/rechnungsvorlage_rg0000001000.jpg', 'https://vorlagen.takma.org/vorlagen/004-vorlage-fur-rechnung-kleinunternehmer-rechnungsprogramm-software-zum-rechnungen-schreiben-pdf.jpg', 'https://rayosle-telephone.com/macb/73pYb5LCXIggCIIgFiEVnQHaK9.jpg', 'https://www.formblitz.de/assets/formular/rechnung_netto_fix-2.jpg', 'https://www.melitia-roth.de/Vorlagenkatalog/einzahl-rechnung-schreiben-vorlage-897465.jpg', 'https://www.vodafone.de/media/img/teaser/hilfe-alles-zur-rechnung-festnetz-rechnu-5.jpg', 'https://www.casagenotta.com/wp-content/uploads/2020/07/das-sample-von-rechnungsvorlage-kostenlose-und-vollstandig-anpassbare-berater-rechnung-vorlage-pdf.png', 'https://www.paulaner-kundenportal.de/data/rechnung-uebersetzung-muster-7.jpg', 'https://www.everbill.com/wp-content/uploads/muster-coach.jpg', 'https://www.casagenotta.com/wp-content/uploads/2020/09/eine-probe-von-genial-vorlage-rechnung-selbststandige-tatigkeit-diese-vorlage-rechnung-selbststandige-tatigkeit-doc.jpg', 'http://www.forms-develop.de/WebRoot/Store26/Shops/64810553/53F3/42FE/A051/3CDD/0570/C0A8/2BB9/2182/Rechnung-A4-Individual.gif', 'https://images-na.ssl-images-amazon.com/images/I/41PXpUTJHKL.jpg', 'https://www.soraya-bauchtanz.de/katalog/grosartig-20-private-rechnung-schreiben-vorlage-von-privat-rechnung-schreiben-vorlage.jpg', 'https://www.dillyhearts.com/bilder/fotograf-rechnung-vorlage-erstaunlich-15-rechnungsvorlage-fotograf-der-fotograf-rechnung-vorlage.jpg', 'https://www.casagenotta.com/wp-content/uploads/2020/10/eine-probe-von-kleinunternehmer-rechnung-rechnungsvorlagen-fur-rechnung-stundenlohn-vorlage-doc-768x1085.jpg', 'https://www.stadtwerke-dorfen.de/wp-content/uploads/rechnung-1.png', 'https://www.casagenotta.com/wp-content/uploads/2020/10/das-beispiel-von-rechnungsvorlagen-kostenlos-rechnungsvorlage-fur-jeden-zweck-vorlage-einer-rechnung-768x1085.jpg', 'https://www.kassensoftware-casy.de/ebay/auftragswesen002-2009-01-17.png', 'http://www.mein-maler.de/wp-content/uploads/2011/09/RechnungS2-1k.jpg', 'https://blog.selectline.de/wp-content/uploads/2020/04/Proforma_Rechnung-724x1024.png', 'http://www.designenlassen.de/blog/wp-content/uploads/2017/01/grafik2-2.jpg', 'https://www.vertrag.de/wp-content/uploads/2015/12/rechnung_brutto_fix2-2.jpg', 'https://www.casagenotta.com/wp-content/uploads/2020/10/das-sample-von-kleinunternehmer-rechnung-rechnungsvorlagen-fur-rechnung-schreiben-vorlage-kleinunternehmer-word.jpg', 'https://www.waagen4you.ch/wp-content/uploads/2020/08/QR-Rechnung.jpg', 'https://www.everbill.com/wp-content/uploads/2014/11/rechnung_beispiel_3.jpg', 'https://www.dillyhearts.com/bilder/rechnung-fur-privatverkauf-vorlage-inspiration-reisekostenabrechnung-abrechnung-fur-projektausgaben-und-der-rechnung-fur-privatverkauf-vorlage.png', 'http://www.mimikama.at/wp-content/uploads/2017/03/image-167.png', 'https://www.watchlist-internet.at/fileadmin/_processed_/f/4/csm_austria-it-rechnung_9008a9ed35.jpg', 'https://www.siwicadilly.com/wp-content/uploads/2019/03/proforma-rechnung-schweiz-vorlage-grosartig-rechnungsvorlage-schweiz-im-word-excel-format-kostenlos-xua-der-proforma-rechnung-schweiz-vorlage.jpg', 'https://www.casagenotta.com/wp-content/uploads/2020/07/das-sample-von-faktura-manager-kfz-werkstatt-rechnung-vorlage-doc-scaled.jpg', 'https://www.casagenotta.com/wp-content/uploads/2020/09/bearbeitbar-von-rechnungsvorlage-freiberufler-e296b7-kostenloser-download-vorlage-rechnung-selbststandige-tatigkeit-word-scaled.jpg', 'https://www.dillyhearts.com/bilder/rechnung-stellen-vorlage-wunderbar-rechnungsvorlagen-kostenlos-rechnungsvorlage-fur-jeden-der-rechnung-stellen-vorlage.jpg', 'https://info.deltra.com/hs-fs/hubfs/Support/Knowledgebase/Vorlagen/Rechnung mit Versandkosten/Rechnung mit Versandkosten_faq.jpg?width=205&amp;name=Rechnung mit Versandkosten_faq.jpg', 'http://www.ebiz-trader.de/marktplatz-faq/images/Installation/pdf-rechnung.jpg', 'https://voyagegeholfen.com/eyzly/CtPuZLLJC6FaZk1Xoy5eNAAAAA.jpg', 'https://support.elopage.com/hc/article_attachments/360012715559/Rechnung_ab_Juni.png', 'https://www.casagenotta.com/wp-content/uploads/2020/07/bearbeitbar-von-muster-goa-rechnung-mit-hausbesuch-goa-igel-igel-rechnung-vorlage-pdf.jpg', 'http://rechnungen-muster.de/images/proforma-rechnung-vorlage-p.jpg', 'https://www.ccgps.org/wp-content/uploads/2018/11/rechnung-kleingewerbe-ohne-umsatzsteuer-vorlage-wunderbar-rechnungsvorlagen-muster-beispiele-information-der-rechnung-kleingewerbe-ohne-umsatzsteuer-vorlage-1.png', 'https://www.casagenotta.com/wp-content/uploads/2020/09/das-beispiel-von-rechnungsvorlage-kostenlose-und-vollstandig-anpassbare-kosten-nutzen-rechnung-vorlage-pdf.png', 'https://vorlagen.takma.org/vorlagen/016-rechnung-schreiben-vorlage-jtl-wawi-muster-druckvorlagen-kostenlos-zum-downloaden.png', 'https://vorlagen.takma.org/vorlagen/023-rechnung-mit-mehrwertsteuer-vorlage-10-vorlage-rechnung-mit-umsatzsteuer-1020x1443.jpg', 'https://www.everbill.com/wp-content/uploads/musterrechnung-rechnung-richtig-schreiben-458x715.jpg', 'https://muster.tokyonewchurch.org/IMG/tolle-18-rechnung-fotograf-vorlage-von-vorlage-rechnung.jpg', 'https://madre-prepare.com/cdsi/9iSGcJezGgYdtRI6Pi3PfAHaKb.jpg', 'http://www.invoiz.de/wp-content/uploads/2018/08/pflichtangaben_gross.png', 'https://www.casagenotta.com/wp-content/uploads/2020/10/eine-probe-von-perfekte-rechnungen-mit-koma-und-rechnungsty-pdf-dolmetscher-rechnung-vorlage-word.jpg', 'https://www.casagenotta.com/wp-content/uploads/2020/10/das-beispiel-von-beste-angebot-hausmeisterservice-vorlage-ebendiese-konnen-rechnung-hausmeisterservice-vorlage-doc-768x1077.jpg', 'https://www.scoutsystems-software.com/media/images/faktura_software/business/FakturaUnternehmer_Software_Rechnung-Kleinunternehmer2a.jpg', 'https://muster.tokyonewchurch.org/IMG/fabelhaft-15-skonto-rechnung-beispiel-von-rechnungsbogen-vorlage.jpg', 'https://www.casagenotta.com/wp-content/uploads/2020/07/druckbar-von-rechnung-ferienwohnung-vordruck-kostenlos-14-vorlage-rechnungsvorlage-fur-ferienwohnung-word.jpg', 'https://volvio-langzaam-hi.com/pcgx/SqZL8msNXajNrg9KSGoHXAHaKd.jpg', 'https://www.casagenotta.com/wp-content/uploads/2020/09/eine-probe-von-rechnungsvorlage-fur-freiberufler-kostenfreier-download-rechnung-schreiben-vorlage-freiberufler-pdf-768x993.png', 'https://muster-vorlage.ch/wp-content/uploads/2017/12/Rechnung-Vorlage-Schweiz-Word.jpg', 'https://www.melitia-roth.de/Vorlagenkatalog/groste-vorlage-rechnung-ferienwohnung-177836.jpg', 'https://www.wintotal.de/media/2019/12/Musterrechnung-Word-570x800.jpg', 'https://www.siwicadilly.com/wp-content/uploads/2019/03/kleinunternehmer-rechnung-vorlage-kostenlos-beste-vorlage-angebot-kleinunternehmer-6-angebotsvorlage-der-kleinunternehmer-rechnung-vorlage-kostenlos.jpg', 'https://muster.tokyonewchurch.org/IMG/atemberaubend-proforma-rechnung-vorlagen-amp-muster-proformarechnung-von-rechnung-vorlage.jpg', 'https://easyfirma.net/wp-content/uploads/2021/04/kb-Rechnung_schreiben-Beispiel-2.png', 'https://www.casagenotta.com/wp-content/uploads/2020/07/das-sample-von-15-begleitbrief-rechnung-seasidecrabhouse-rechnungsvorlage-office-doc-1117x1536.jpg', 'https://www.dillyhearts.com/bilder/rechnung-selber-schreiben-vorlage-gut-13-gutschrift-vorlage-der-rechnung-selber-schreiben-vorlage.jpg', 'https://vorlage-kostenlos.de/wp-content/uploads/kfz-rechnung-muster-1061x1500.jpg', 'https://rechnungsmuster.com/wp-content/uploads/2013/05/proformarechnung-768x869.png', 'https://www.casagenotta.com/wp-content/uploads/2020/07/das-beispiel-von-numbers-rechnungsvorlage-mit-zwei-steuersatzen-rechnung-usa-vorlage-doc.jpg', 'https://binaries.templates.cdn.office.net/support/templates/de-de/lt04068890.png', 'https://www.groupe-e.ch/sites/default/files/inline-images/meine-rechnung.jpg', 'http://www.mimikama.at/wp-content/uploads/2017/07/image-90.png', 'https://www.nowload.de/wp-content/uploads/2016/04/4307-rechnung.jpg', 'https://www.shpower.ch/fileadmin/user_upload/Rechnung-SH-POWER-v3-s1.jpg', 'https://www.ccgps.org/wp-content/uploads/2018/10/privatverkauf-rechnung-vorlage-download-erstaunlich-abschlagsrechnung-muster-kostenlos-77-images-mahnung-der-privatverkauf-rechnung-vorlage-download.jpg', 'https://www.internet-marketing-inside.de/pictures/google-ads-rechnung-aufstellung-von-kosten-und-steuern-aufzeichnung-der-erhaltenen-zahlungen.png', 'https://www.casagenotta.com/wp-content/uploads/2020/08/eine-probe-von-rechnungsvorlagen-kostenlos-rechnungsvorlage-fur-jeden-zweck-musiker-rechnung-vorlage-excel-768x1085.jpg', 'https://www.sanapp-praxissoftware.ch/images/blog/software_news/2018-07-10/rechnung_mit_gutschrift-0344800e.jpg', 'http://www.schema.at/images/rechnung_500br.jpg', 'https://www.siwicadilly.com/wp-content/uploads/2019/03/vorlage-rechnung-provision-neu-gutschrift-erklarung-tipps-zum-erstellen-inkl-vorlage-der-vorlage-rechnung-provision.png', 'https://www.infra-fuerth.de/fileadmin/images/rechnungserklaerung/umzug-gas-seite1-20.png', 'https://www.ccgps.org/wp-content/uploads/2018/10/proforma-rechnung-zoll-vorlage-elegant-vorlage-proformarechnung-download-kostenlos-der-proforma-rechnung-zoll-vorlage.jpg', 'https://www.wintotal.de/media/2019/12/Musterrechnung-Word.jpg', 'https://tecsee.de/wp-content/uploads/rechnung-druckvorlage-a50602-001-1086x1536.jpg', 'https://www.casagenotta.com/wp-content/uploads/2020/07/das-sample-von-kleinunternehmer-rechnung-rechnungsvorlagen-fur-vorlage-rechnung-yogalehrer-doc-768x1085.jpg', 'https://www.vertrag.de/wp-content/uploads/2015/12/rechnung_kleinunternehmer_ib2-600x788.jpg', 'https://vorlagen.takma.org/vorlagen/009-muster-vorlage-rechnung-kleinunternehmer-mit-dem-blog-geld-ver-nen-rechnungen-richtig-stellen-1020x1442.png', 'https://www.casagenotta.com/wp-content/uploads/2020/07/das-sample-von-musterrechnung-unimedde-auslagen-rechnung-vorlage-pdf.png', 'https://cashctrl.com/application/files/cache/thumbnails/d056482f7eaba47f286101a7a6402dac.png', 'https://vorlagen.takma.org/vorlagen/009-no-show-rechnung-hotel-vorlage-honorarrechnung-vorlage-muster-dozenten-lehrer.jpg', 'https://www.casagenotta.com/wp-content/uploads/2020/10/das-sample-von-rechnungsvorlage-und-musterrechnung-kostenlos-vorlage-einer-rechnung-doc.png', 'https://www.casagenotta.com/wp-content/uploads/2020/07/das-sample-von-musterrechnung-unimedde-auslagen-rechnung-vorlage-pdf-1088x1536.png', 'https://muster.tokyonewchurch.org/IMG/uberraschen-rechnung-kleinunternehmer-vorlage-das-beste-von-von-rechnung-kleinunternehmer-vorlage-word.jpg']\n"
     ]
    }
   ],
   "source": [
    "bing.get_links(query=\"rechnung\")"
   ]
  },
  {
   "cell_type": "code",
   "execution_count": null,
   "metadata": {},
   "outputs": [],
   "source": []
  }
 ],
 "metadata": {
  "interpreter": {
   "hash": "c2f8a729571b5b3e8efe6521cfcc3719515777831eeb5cee06b7b7c577c3efd1"
  },
  "kernelspec": {
   "display_name": "Python 3 (ipykernel)",
   "language": "python",
   "name": "python3"
  },
  "language_info": {
   "codemirror_mode": {
    "name": "ipython",
    "version": 3
   },
   "file_extension": ".py",
   "mimetype": "text/x-python",
   "name": "python",
   "nbconvert_exporter": "python",
   "pygments_lexer": "ipython3",
   "version": "3.8.10"
  }
 },
 "nbformat": 4,
 "nbformat_minor": 4
}
